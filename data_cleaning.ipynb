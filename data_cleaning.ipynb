{
 "cells": [
  {
   "cell_type": "code",
   "execution_count": null,
   "metadata": {},
   "outputs": [],
   "source": [
    "import pandas as pd\n",
    "data_folder = '..'"
   ]
  },
  {
   "cell_type": "code",
   "execution_count": null,
   "metadata": {},
   "outputs": [],
   "source": [
    "basics = pd.read_csv(data_folder + '/movie_data/title_basics.tsv', sep='\\t') ##imports the movies' basic data"
   ]
  },
  {
   "cell_type": "code",
   "execution_count": null,
   "metadata": {},
   "outputs": [],
   "source": [
    "mv = basics\n",
    "mv=mv.drop(['endYear'], axis=1)   #drop the \"endYear\" column and select only movies since \n",
    "mv=mv[mv['titleType']=='movie']   #we don't care about TV series\n",
    "mv=mv.drop(['titleType'],axis=1)\n",
    "mv = mv[mv['isAdult'] == 0]\n",
    "mv = mv.drop(['isAdult'], axis = 1)\n",
    "for col in mv.columns:            #removes any row with missing data\n",
    "    mv=mv[mv[col]!='\\\\N']\n",
    "mv=mv[pd.to_numeric(mv['startYear'])>=1980] #selects only movies produced after 1980"
   ]
  },
  {
   "cell_type": "code",
   "execution_count": null,
   "metadata": {},
   "outputs": [],
   "source": [
    "crew = pd.read_csv(data_folder + '/movie_data/title_crew.tsv', sep='\\t') #imports crew data"
   ]
  },
  {
   "cell_type": "code",
   "execution_count": null,
   "metadata": {},
   "outputs": [],
   "source": [
    "crew=crew[crew['tconst'].isin(mv['tconst'])] #removes rows with missing data from crew and creates new\n",
    "for col in crew.columns:                     #movie list with intersection of mv and crew\n",
    "    crew=crew[crew[col]!='\\\\N']\n",
    "mv=mv[mv['tconst'].isin(crew['tconst'])]\n",
    "crew=crew.drop(['tconst'], axis=1)\n",
    "mv=mv.reset_index(drop=True)\n",
    "crew=crew.reset_index(drop=True)\n",
    "mv=pd.concat([mv,crew],axis=1)"
   ]
  },
  {
   "cell_type": "code",
   "execution_count": null,
   "metadata": {},
   "outputs": [],
   "source": [
    "rat=pd.read_csv(data_folder + '/movie_data/title_ratings.tsv', sep='\\t') #imports rating data"
   ]
  },
  {
   "cell_type": "code",
   "execution_count": null,
   "metadata": {},
   "outputs": [],
   "source": [
    "rat=rat[pd.to_numeric(rat['numVotes'])>=1000] #drops movies with less than 1000 user votes"
   ]
  },
  {
   "cell_type": "code",
   "execution_count": null,
   "metadata": {},
   "outputs": [],
   "source": [
    "rat=rat[rat['tconst'].isin(mv['tconst'])]   #creates new list with intersection of ratings and mv\n",
    "mv=mv[mv['tconst'].isin(rat['tconst'])]\n",
    "rat=rat.drop(['tconst'], axis=1)\n",
    "mv=mv.reset_index(drop=True)\n",
    "rat=rat.reset_index(drop=True)\n",
    "mv=pd.concat([mv,rat],axis=1)"
   ]
  },
  {
   "cell_type": "code",
   "execution_count": null,
   "metadata": {},
   "outputs": [],
   "source": [
    "pr=pd.read_csv(data_folder + '/movie_data/title_principals.tsv', sep='\\t') #imports cast data"
   ]
  },
  {
   "cell_type": "code",
   "execution_count": null,
   "metadata": {},
   "outputs": [],
   "source": [
    "pr=pr[pr['tconst'].isin(mv['tconst'])] #drops all movies that aren't in mv from cast"
   ]
  },
  {
   "cell_type": "code",
   "execution_count": null,
   "metadata": {},
   "outputs": [],
   "source": [
    "mv.to_csv(path_or_buf = data_folder + '/full_data.csv')"
   ]
  }
 ],
 "metadata": {
  "kernelspec": {
   "display_name": "Python 3",
   "language": "python",
   "name": "python3"
  },
  "language_info": {
   "codemirror_mode": {
    "name": "ipython",
    "version": 3
   },
   "file_extension": ".py",
   "mimetype": "text/x-python",
   "name": "python",
   "nbconvert_exporter": "python",
   "pygments_lexer": "ipython3",
   "version": "3.5.2"
  }
 },
 "nbformat": 4,
 "nbformat_minor": 2
}
