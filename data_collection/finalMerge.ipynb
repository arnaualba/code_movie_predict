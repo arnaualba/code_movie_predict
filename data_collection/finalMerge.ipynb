{
 "cells": [
  {
   "cell_type": "code",
   "execution_count": 2,
   "metadata": {},
   "outputs": [],
   "source": [
    "import pandas as pd"
   ]
  },
  {
   "cell_type": "code",
   "execution_count": 3,
   "metadata": {},
   "outputs": [],
   "source": [
    "data1 = pd.read_csv('../full_data.csv')\n",
    "data2 = pd.read_csv('../data2/movie_data_no_json.csv')"
   ]
  },
  {
   "cell_type": "code",
   "execution_count": 4,
   "metadata": {},
   "outputs": [
    {
     "name": "stdout",
     "output_type": "stream",
     "text": [
      "Index(['Unnamed: 0', 'tconst', 'primaryTitle', 'originalTitle', 'startYear',\n",
      "       'runtimeMinutes', 'genres', 'directors', 'writers', 'averageRating',\n",
      "       'numVotes'],\n",
      "      dtype='object')\n",
      "Index(['budget', 'imdb_id', 'original_language', 'original_title', 'overview',\n",
      "       'popularity', 'release_date', 'revenue', 'runtime', 'tagline', 'title',\n",
      "       'vote_average', 'vote_count', 'Unnamed: 13'],\n",
      "      dtype='object')\n"
     ]
    }
   ],
   "source": [
    "print(data1.columns)\n",
    "print(data2.columns)"
   ]
  },
  {
   "cell_type": "code",
   "execution_count": 5,
   "metadata": {},
   "outputs": [],
   "source": [
    "full = data1\n",
    "full.rename(columns = {'tconst' : 'imdb_id'}, inplace = True)\n",
    "full.rename(columns = {'originalTitle' : 'original_title'}, inplace = True)\n",
    "full = full.drop(['Unnamed: 0'], axis = 1)\n",
    "\n",
    "tmdb = data2\n",
    "tmdb = tmdb.drop(['overview', 'popularity', 'title', 'vote_average', 'vote_count', 'Unnamed: 13'], axis = 1)\n",
    "\n",
    "# final = pd.merge(full, tmdb, on = 'original_title')\n",
    "# final.to_csv('../merge_title_data.csv')\n",
    "\n",
    "final = pd.merge(full, tmdb, on = 'imdb_id')\n",
    "final.to_csv('../merge_imdb_id_data.csv')"
   ]
  }
 ],
 "metadata": {
  "kernelspec": {
   "display_name": "Python 3",
   "language": "python",
   "name": "python3"
  },
  "language_info": {
   "codemirror_mode": {
    "name": "ipython",
    "version": 3
   },
   "file_extension": ".py",
   "mimetype": "text/x-python",
   "name": "python",
   "nbconvert_exporter": "python",
   "pygments_lexer": "ipython3",
   "version": "3.5.2"
  }
 },
 "nbformat": 4,
 "nbformat_minor": 2
}
